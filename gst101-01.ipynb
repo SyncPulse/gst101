{
 "cells": [
  {
   "cell_type": "markdown",
   "id": "a8ebf24c-d54c-4b07-b780-ddec219ca452",
   "metadata": {},
   "source": [
    "```mermaid\n",
    "flowchart LR\n",
    "subgraph video generator\n",
    "  direction LR\n",
    "  VS[video source] --> overlay\n",
    "  overlay --> R[GL Sink]\n",
    "end\n",
    "  R-.->GL\n",
    "subgraph video display\n",
    "  direction LR\n",
    "  GL[GL driver] --> DPW[Display Window]\n",
    "end\n",
    "\n",
    "```"
   ]
  },
  {
   "cell_type": "code",
   "execution_count": null,
   "id": "4e1db69c-a722-435d-9d69-2bb798ee235d",
   "metadata": {},
   "outputs": [],
   "source": [
    "!gst-launch-1.0 \\\n",
    "    videotestsrc ! video/x-raw,width=320,height=240 ! \\\n",
    "    timeoverlay halignment=center valignment=center font-desc=\"Sans, 32\" ! \\\n",
    "    autovideosink"
   ]
  },
  {
   "cell_type": "markdown",
   "id": "500e91d6-96e7-4707-9a99-0e28d7ff2fe1",
   "metadata": {},
   "source": [
    "```mermaid\n",
    "flowchart LR\n",
    "subgraph video generator\n",
    "  direction LR\n",
    "  VS[video source] --> overlay\n",
    "  overlay --> TCPC[tcp client]\n",
    "end\n",
    "  TCPC-.->TCPS\n",
    "subgraph video display\n",
    "  direction LR\n",
    "  TCPS[tcp server]-->MJPGS[MJPG splitter]\n",
    "  MJPGS --> Id[IPython.display]\n",
    "end\n",
    "\n",
    "```"
   ]
  },
  {
   "cell_type": "code",
   "execution_count": null,
   "id": "0477350f-81f1-4276-9873-d1a336a02510",
   "metadata": {},
   "outputs": [],
   "source": [
    "import socket\n",
    "from IPython.display import display, Image, clear_output\n",
    "from io import BytesIO\n",
    "\n",
    "def receive_mjpeg_stream(host, port):\n",
    "    # Create a socket and bind it to the host and port\n",
    "    with socket.socket(socket.AF_INET, socket.SOCK_STREAM) as server_socket:\n",
    "        server_socket.bind((host, port))\n",
    "        server_socket.listen(1)  # Listen for incoming connections (1 backlog)\n",
    "        print(f\"Server is listening on {host}:{port}\")\n",
    "\n",
    "        # Accept connections from outside\n",
    "        (client_socket, address) = server_socket.accept()\n",
    "        print(f\"Connection accepted from {address}\")\n",
    "\n",
    "        # The buffer to store received data\n",
    "        buffer = bytearray()\n",
    "        try:\n",
    "            # Continuously receive data from the client\n",
    "            while True:\n",
    "                data = client_socket.recv(4096)  # Adjust buffer size as necessary\n",
    "                if not data:\n",
    "                    break  # No more data, terminate the loop\n",
    "                \n",
    "                # Append data to the buffer\n",
    "                buffer.extend(data)\n",
    "                \n",
    "                # Process each frame\n",
    "                while True:\n",
    "                    start = buffer.find(b'\\xff\\xd8')\n",
    "                    end = buffer.find(b'\\xff\\xd9', start + 2)\n",
    "\n",
    "                    # Check if we have a valid frame\n",
    "                    if start != -1 and end != -1:\n",
    "                        # Extract the frame\n",
    "                        jpg = buffer[start:end + 2]\n",
    "                        # Clear the buffer up to the end of the frame\n",
    "                        buffer = buffer[end + 2:]\n",
    "\n",
    "                        # Create a BytesIO stream from the JPEG data\n",
    "                        img_stream = BytesIO(jpg)\n",
    "\n",
    "                        # Create an Image object and display it\n",
    "                        img = Image(data=img_stream.read())\n",
    "                        clear_output(wait=True)\n",
    "                        display(img)\n",
    "                    else:\n",
    "                        break  # No complete frame, exit loop to receive more data\n",
    "        finally:\n",
    "            client_socket.close()  # Close the client socket\n",
    "            print(\"Connection closed.\")\n",
    "\n",
    "# Specify the host and port to listen on\n",
    "HOST = '0.0.0.0'  # Listen on all network interfaces\n",
    "PORT = 12345      # Port number\n",
    "\n",
    "# Run the server\n",
    "receive_mjpeg_stream(HOST, PORT)\n"
   ]
  },
  {
   "cell_type": "code",
   "execution_count": null,
   "id": "085a50a7-cc89-40a9-b0c2-a1f64252a0f0",
   "metadata": {},
   "outputs": [],
   "source": []
  }
 ],
 "metadata": {
  "kernelspec": {
   "display_name": "Python 3 (ipykernel)",
   "language": "python",
   "name": "python3"
  },
  "language_info": {
   "codemirror_mode": {
    "name": "ipython",
    "version": 3
   },
   "file_extension": ".py",
   "mimetype": "text/x-python",
   "name": "python",
   "nbconvert_exporter": "python",
   "pygments_lexer": "ipython3",
   "version": "3.12.2"
  }
 },
 "nbformat": 4,
 "nbformat_minor": 5
}
